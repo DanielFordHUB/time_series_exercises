{
 "cells": [
  {
   "cell_type": "code",
   "execution_count": 1,
   "id": "68cc7909",
   "metadata": {},
   "outputs": [],
   "source": [
    "import pandas as pd\n",
    "\n",
    "import requests\n",
    "from requests import get"
   ]
  },
  {
   "cell_type": "markdown",
   "id": "75ee562c",
   "metadata": {},
   "source": [
    "# 1. \n",
    "\n",
    "### Using the code from the lesson as a guide and the REST API from https://python.zgulde.net/api/v1/items as we did in the lesson, create a dataframe named `items` that has all of the data for items."
   ]
  },
  {
   "cell_type": "code",
   "execution_count": null,
   "id": "115a673f",
   "metadata": {},
   "outputs": [],
   "source": [
    "domain = 'https://python.zgulde.net'\n",
    "endpoint = '/api/v1/items'\n",
    "items = []\n",
    "url = domain + endpoint\n",
    "\n",
    "response = requests.get(url)\n",
    "data = response.json()\n",
    "\n",
    "items.extend(data['payload']['items'])"
   ]
  },
  {
   "cell_type": "code",
   "execution_count": null,
   "id": "4634f5a2",
   "metadata": {},
   "outputs": [],
   "source": [
    "data['payload']['next_page']"
   ]
  },
  {
   "cell_type": "code",
   "execution_count": null,
   "id": "63865839",
   "metadata": {},
   "outputs": [],
   "source": [
    "url = domain + data['payload']['next_page']\n",
    "print('Next url:', url)"
   ]
  },
  {
   "cell_type": "code",
   "execution_count": null,
   "id": "56677235",
   "metadata": {},
   "outputs": [],
   "source": [
    "response = requests.get(url)\n",
    "data = response.json()\n",
    "items.extend(data['payload']['items'])"
   ]
  },
  {
   "cell_type": "code",
   "execution_count": null,
   "id": "bf97b3d4",
   "metadata": {},
   "outputs": [],
   "source": [
    "url = domain +data['payload']['next_page']\n",
    "print('Next url:', url)"
   ]
  },
  {
   "cell_type": "code",
   "execution_count": null,
   "id": "1112f6a6",
   "metadata": {},
   "outputs": [],
   "source": [
    "response = requests.get(url)\n",
    "data = response.json()\n",
    "items.extend(data['payload']['items'])"
   ]
  },
  {
   "cell_type": "code",
   "execution_count": null,
   "id": "7cae6abf",
   "metadata": {},
   "outputs": [],
   "source": [
    "print('next endpoint', data['payload']['next_page'])"
   ]
  },
  {
   "cell_type": "code",
   "execution_count": null,
   "id": "8650b285",
   "metadata": {},
   "outputs": [],
   "source": [
    "domain='https://python.zgulde.net'\n",
    "endpoint='/api/v1/items'\n",
    "items=[]\n",
    "while True:\n",
    "    url = domain + endpoint\n",
    "    response = get.(url)\n",
    "    data = response.json()\n",
    "    print(f'\\rGetting page {data[\"payload\"][\"page\"]} of {data[\"payload\"][\"max_page\"]}: {url}', end='')\n",
    "    items.extend(data['payload']['items'])\n",
    "    endpoint = data['payload']['next_page']\n",
    "    if endpoint == None:\n",
    "        break\n",
    "items = pd.DataFrame(items)\n",
    "return items"
   ]
  },
  {
   "cell_type": "code",
   "execution_count": 4,
   "id": "154aaeaf",
   "metadata": {},
   "outputs": [
    {
     "ename": "SyntaxError",
     "evalue": "invalid syntax (3529734886.py, line 7)",
     "output_type": "error",
     "traceback": [
      "\u001b[0;36m  Input \u001b[0;32mIn [4]\u001b[0;36m\u001b[0m\n\u001b[0;31m    response = requests.get.(url)\u001b[0m\n\u001b[0m                            ^\u001b[0m\n\u001b[0;31mSyntaxError\u001b[0m\u001b[0;31m:\u001b[0m invalid syntax\n"
     ]
    }
   ],
   "source": [
    "def get_items_api():\n",
    "    domain='https://python.zgulde.net'\n",
    "    endpoint='/api/v1/items'\n",
    "    items=[]\n",
    "    while True:\n",
    "        url = domain + endpoint\n",
    "        response = requests.get.(url)\n",
    "        data = response.json()\n",
    "        print(f'\\rGetting page {data[\"payload\"][\"page\"]} of {data[\"payload\"][\"max_page\"]}: {url}', end='')\n",
    "        items.extend(data['payload']['items'])\n",
    "        endpoint = data['payload']['next_page']\n",
    "        if endpoint == None:\n",
    "            break\n",
    "    items = pd.DataFrame(items)\n",
    "    return items"
   ]
  },
  {
   "cell_type": "code",
   "execution_count": null,
   "id": "d8e9530b",
   "metadata": {},
   "outputs": [],
   "source": []
  },
  {
   "cell_type": "code",
   "execution_count": 5,
   "id": "445ed727",
   "metadata": {},
   "outputs": [
    {
     "ename": "NameError",
     "evalue": "name 'response' is not defined",
     "output_type": "error",
     "traceback": [
      "\u001b[0;31m---------------------------------------------------------------------------\u001b[0m",
      "\u001b[0;31mNameError\u001b[0m                                 Traceback (most recent call last)",
      "Input \u001b[0;32mIn [5]\u001b[0m, in \u001b[0;36m<cell line: 1>\u001b[0;34m()\u001b[0m\n\u001b[0;32m----> 1\u001b[0m \u001b[43mresponse\u001b[49m\u001b[38;5;241m.\u001b[39mjson()[\u001b[38;5;124m'\u001b[39m\u001b[38;5;124mpayload\u001b[39m\u001b[38;5;124m'\u001b[39m]\n",
      "\u001b[0;31mNameError\u001b[0m: name 'response' is not defined"
     ]
    }
   ],
   "source": [
    "response.json()['payload']"
   ]
  },
  {
   "cell_type": "code",
   "execution_count": null,
   "id": "022c5f44",
   "metadata": {
    "scrolled": true
   },
   "outputs": [],
   "source": [
    "print(response.json()['payload'])"
   ]
  },
  {
   "cell_type": "markdown",
   "id": "d3ee8b22",
   "metadata": {},
   "source": [
    "### items max page is 3"
   ]
  },
  {
   "cell_type": "code",
   "execution_count": null,
   "id": "48dc4712",
   "metadata": {},
   "outputs": [],
   "source": [
    "data.keys()"
   ]
  },
  {
   "cell_type": "code",
   "execution_count": null,
   "id": "ce598e04",
   "metadata": {},
   "outputs": [],
   "source": [
    "data['payload'].keys()"
   ]
  },
  {
   "cell_type": "code",
   "execution_count": null,
   "id": "1e188aba",
   "metadata": {},
   "outputs": [],
   "source": [
    "items = pd.DataFrame(data['payload']['items'])\n",
    "items.head()"
   ]
  },
  {
   "cell_type": "code",
   "execution_count": null,
   "id": "b19277a8",
   "metadata": {},
   "outputs": [],
   "source": []
  },
  {
   "cell_type": "markdown",
   "id": "388faf47",
   "metadata": {},
   "source": [
    "# 2.\n",
    "### Do the same thing, but for `stores` (https://python.zgulde.net/api/v1/stores)"
   ]
  },
  {
   "cell_type": "code",
   "execution_count": null,
   "id": "30f9ea67",
   "metadata": {},
   "outputs": [],
   "source": [
    "stores = "
   ]
  },
  {
   "cell_type": "code",
   "execution_count": null,
   "id": "4e2ecc9a",
   "metadata": {},
   "outputs": [],
   "source": []
  },
  {
   "cell_type": "markdown",
   "id": "fb26bbc5",
   "metadata": {},
   "source": [
    "# 3. \n",
    "\n",
    "### Extract the data for `sales` (https://python.zgulde.net/api/v1/sales). There are a lot of pages of data here, so your code will need to be a little more complex. Your code should continue fetching data from the next page until all of the data is extracted."
   ]
  },
  {
   "cell_type": "code",
   "execution_count": null,
   "id": "19ae6a7f",
   "metadata": {},
   "outputs": [],
   "source": []
  },
  {
   "cell_type": "code",
   "execution_count": null,
   "id": "f282e759",
   "metadata": {},
   "outputs": [],
   "source": []
  },
  {
   "cell_type": "markdown",
   "id": "e2004866",
   "metadata": {},
   "source": [
    "# 4. \n",
    "\n",
    "### Save the data in your files to local csv files so that it will be faster to access in the future."
   ]
  },
  {
   "cell_type": "code",
   "execution_count": null,
   "id": "5c877a31",
   "metadata": {},
   "outputs": [],
   "source": []
  },
  {
   "cell_type": "code",
   "execution_count": null,
   "id": "5067b21e",
   "metadata": {},
   "outputs": [],
   "source": []
  },
  {
   "cell_type": "markdown",
   "id": "a5327e27",
   "metadata": {},
   "source": [
    "# 5. \n",
    "\n",
    "### Combine the data from your three separate dataframes into one large dataframe."
   ]
  },
  {
   "cell_type": "code",
   "execution_count": null,
   "id": "126a9337",
   "metadata": {},
   "outputs": [],
   "source": []
  },
  {
   "cell_type": "code",
   "execution_count": null,
   "id": "af11d87f",
   "metadata": {},
   "outputs": [],
   "source": []
  },
  {
   "cell_type": "markdown",
   "id": "a014eda4",
   "metadata": {},
   "source": [
    "# 6. \n",
    "\n",
    "### Acquire the Open Power Systems Data for Germany, which has been rapidly expanding its renewable energy production in recent years. The data set includes country-wide totals of electricity consumption, wind power production, and solar power production for 2006-2017. You can get the data here: https://raw.githubusercontent.com/jenfly/opsd/master/opsd_germany_daily.csv"
   ]
  },
  {
   "cell_type": "code",
   "execution_count": null,
   "id": "d12ef10a",
   "metadata": {},
   "outputs": [],
   "source": []
  },
  {
   "cell_type": "code",
   "execution_count": null,
   "id": "06fd8120",
   "metadata": {},
   "outputs": [],
   "source": []
  },
  {
   "cell_type": "markdown",
   "id": "387af5e0",
   "metadata": {},
   "source": [
    "# 7. \n",
    "\n",
    "### Make sure all the work that you have done above is reproducible. That is, you should put the code above into separate functions in the `acquire.py` file and be able to re-run the functions and get the same data."
   ]
  },
  {
   "cell_type": "code",
   "execution_count": null,
   "id": "0e2d5299",
   "metadata": {},
   "outputs": [],
   "source": []
  },
  {
   "cell_type": "code",
   "execution_count": null,
   "id": "1f63c9ea",
   "metadata": {},
   "outputs": [],
   "source": []
  }
 ],
 "metadata": {
  "kernelspec": {
   "display_name": "Python 3 (ipykernel)",
   "language": "python",
   "name": "python3"
  },
  "language_info": {
   "codemirror_mode": {
    "name": "ipython",
    "version": 3
   },
   "file_extension": ".py",
   "mimetype": "text/x-python",
   "name": "python",
   "nbconvert_exporter": "python",
   "pygments_lexer": "ipython3",
   "version": "3.9.12"
  }
 },
 "nbformat": 4,
 "nbformat_minor": 5
}
